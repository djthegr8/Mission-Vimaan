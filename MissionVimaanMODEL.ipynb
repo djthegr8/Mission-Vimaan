{
  "nbformat": 4,
  "nbformat_minor": 0,
  "metadata": {
    "colab": {
      "name": "MissionVimaanMODEL.ipynb",
      "provenance": [],
      "collapsed_sections": [],
      "authorship_tag": "ABX9TyNiAWoQEvUhiXnyzTEMw7S5",
      "include_colab_link": true
    },
    "kernelspec": {
      "name": "python3",
      "display_name": "Python 3"
    }
  },
  "cells": [
    {
      "cell_type": "markdown",
      "metadata": {
        "id": "view-in-github",
        "colab_type": "text"
      },
      "source": [
        "<a href=\"https://colab.research.google.com/github/djthegr8/Mission-Vimaan/blob/master/MissionVimaanMODEL.ipynb\" target=\"_parent\"><img src=\"https://colab.research.google.com/assets/colab-badge.svg\" alt=\"Open In Colab\" width = 1000 height = 600/></a>"
      ]
    },
    {
      "cell_type": "code",
      "metadata": {
        "id": "q_tiC94SVGIA",
        "colab_type": "code",
        "colab": {
          "base_uri": "https://localhost:8080/",
          "height": 309
        },
        "outputId": "271157a6-faac-4839-a6b5-260ee91866dd"
      },
      "source": [
        "!wget https://github.com/djthegr8/Mission-Vimaan/raw/master/MissionVimaan.h5"
      ],
      "execution_count": 20,
      "outputs": [
        {
          "output_type": "stream",
          "text": [
            "--2020-07-06 12:06:11--  https://github.com/djthegr8/Mission-Vimaan/raw/master/MissionVimaan.h5\n",
            "Resolving github.com (github.com)... 140.82.114.4\n",
            "Connecting to github.com (github.com)|140.82.114.4|:443... connected.\n",
            "HTTP request sent, awaiting response... 302 Found\n",
            "Location: https://raw.githubusercontent.com/djthegr8/Mission-Vimaan/master/MissionVimaan.h5 [following]\n",
            "--2020-07-06 12:06:12--  https://raw.githubusercontent.com/djthegr8/Mission-Vimaan/master/MissionVimaan.h5\n",
            "Resolving raw.githubusercontent.com (raw.githubusercontent.com)... 151.101.0.133, 151.101.64.133, 151.101.128.133, ...\n",
            "Connecting to raw.githubusercontent.com (raw.githubusercontent.com)|151.101.0.133|:443... connected.\n",
            "HTTP request sent, awaiting response... 200 OK\n",
            "Length: 15643768 (15M) [application/octet-stream]\n",
            "Saving to: ‘MissionVimaan.h5.1’\n",
            "\n",
            "\rMissionVimaan.h5.1    0%[                    ]       0  --.-KB/s               \rMissionVimaan.h5.1   12%[=>                  ]   1.89M  9.39MB/s               \rMissionVimaan.h5.1   40%[=======>            ]   6.10M  15.2MB/s               \rMissionVimaan.h5.1   99%[==================> ]  14.92M  24.8MB/s               \rMissionVimaan.h5.1  100%[===================>]  14.92M  24.8MB/s    in 0.6s    \n",
            "\n",
            "2020-07-06 12:06:12 (24.8 MB/s) - ‘MissionVimaan.h5.1’ saved [15643768/15643768]\n",
            "\n"
          ],
          "name": "stdout"
        }
      ]
    },
    {
      "cell_type": "code",
      "metadata": {
        "id": "KOIrl4WiHa53",
        "colab_type": "code",
        "colab": {}
      },
      "source": [
        "import tensorflow as tf\n",
        "import os\n",
        "from PIL import Image\n",
        "from time import time as t\n",
        "import numpy as np\n",
        "from numpy import asarray"
      ],
      "execution_count": 21,
      "outputs": []
    },
    {
      "cell_type": "code",
      "metadata": {
        "id": "Tvuxa8yQIa1D",
        "colab_type": "code",
        "colab": {}
      },
      "source": [
        "model = tf.keras.models.load_model('./MissionVimaan.h5')"
      ],
      "execution_count": 22,
      "outputs": []
    },
    {
      "cell_type": "code",
      "metadata": {
        "id": "6i7oKeobKm3g",
        "colab_type": "code",
        "colab": {}
      },
      "source": [
        "def image_load(fpath):\n",
        "  '''\n",
        "  Loads the desired image\n",
        "  Args:\n",
        "  fpath: str:  Path of the image\n",
        "\n",
        "  Returns:\n",
        "  array: ndarray: An npy array of the image\n",
        "  '''\n",
        "  a = t()\n",
        "  x = Image.open(fpath)\n",
        "  b = t()\n",
        "  print(f\"Image loaded in {(b-a)}ms\")\n",
        "  x.show()\n",
        "  array = np.asarray(x)\n",
        "  return array"
      ],
      "execution_count": 23,
      "outputs": []
    },
    {
      "cell_type": "code",
      "metadata": {
        "id": "JM2J6fD9O8P3",
        "colab_type": "code",
        "colab": {}
      },
      "source": [
        "def test(mv_model,image_array,verbose = 0,print_at_end=True):\n",
        "  '''\n",
        "  Tests the image on the model, returns probabilities that the image contains water.\n",
        "  Args:\n",
        "  model: tf.Keras.Model: The model to test on\n",
        "  image_array: ndarray: The image to test\n",
        "\n",
        "  Returns:\n",
        "  res: float: Probability that the img contains water\n",
        "  '''\n",
        "  image_a2 = np.asarray(image_array) / 255\n",
        "  print(\"Resizing image\")\n",
        "  img_res = tf.image.resize(image_a2,[224,224])\n",
        "  try:\n",
        "      img_res = np.asarray(img_res).reshape([1,224,224,3])\n",
        "  except:\n",
        "      img_res = np.array(img_res)[:,:,:3].reshape([1,224,224,3])\n",
        "  print(img_res.shape)\n",
        "  print(\"Resizing over, predicting started\")\n",
        "  res = mv_model.predict(img_res,verbose=verbose)\n",
        "  #res = int(res)\n",
        "  print(\"Over.\")\n",
        "  if print_at_end:\n",
        "    print(f\"The probability that the img has water is {res}\")  \n",
        "  return res  "
      ],
      "execution_count": 46,
      "outputs": []
    },
    {
      "cell_type": "code",
      "metadata": {
        "id": "gqVkWHGTI0kX",
        "colab_type": "code",
        "colab": {
          "base_uri": "https://localhost:8080/",
          "height": 34
        },
        "outputId": "887c1dd5-9ada-41b8-add0-7eaded644db0"
      },
      "source": [
        "#@title Select image for testing { display-mode: \"form\" }\n",
        "fpath = \"/content/downloadA.png\" #@param {type:\"string\"}\n",
        "imagez = image_load(fpath)"
      ],
      "execution_count": 47,
      "outputs": [
        {
          "output_type": "stream",
          "text": [
            "Image loaded in 0.0005173683166503906ms\n"
          ],
          "name": "stdout"
        }
      ]
    },
    {
      "cell_type": "code",
      "metadata": {
        "id": "TUcHpfuSSQw8",
        "colab_type": "code",
        "colab": {
          "base_uri": "https://localhost:8080/",
          "height": 119
        },
        "outputId": "9c925b0c-dfbf-4fd4-ad48-9c52ab5641ff"
      },
      "source": [
        "_ = test(model,imagez,1)"
      ],
      "execution_count": 48,
      "outputs": [
        {
          "output_type": "stream",
          "text": [
            "Resizing image\n",
            "(1, 224, 224, 3)\n",
            "Resizing over, predicting started\n",
            "1/1 [==============================] - 0s 1ms/step\n",
            "Over.\n",
            "The probability that the img has water is [[0.9205291]]\n"
          ],
          "name": "stdout"
        }
      ]
    },
    {
      "cell_type": "code",
      "metadata": {
        "id": "EdW-CbT9UEuz",
        "colab_type": "code",
        "colab": {}
      },
      "source": [
        ""
      ],
      "execution_count": null,
      "outputs": []
    }
  ]
}
