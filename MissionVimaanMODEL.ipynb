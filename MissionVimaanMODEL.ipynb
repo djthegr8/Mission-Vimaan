{
  "nbformat": 4,
  "nbformat_minor": 0,
  "metadata": {
    "colab": {
      "name": "MissionVimaanMODEL.ipynb",
      "provenance": [],
      "collapsed_sections": [],
      "mount_file_id": "1QM9KqkXx8aI42DRz2SKEjEiRZZQu50-2",
      "authorship_tag": "ABX9TyMqnsZL99Yyzs8HTYcCxYde",
      "include_colab_link": true
    },
    "kernelspec": {
      "name": "python3",
      "display_name": "Python 3"
    }
  },
  "cells": [
    {
      "cell_type": "markdown",
      "metadata": {
        "id": "view-in-github",
        "colab_type": "text"
      },
      "source": [
        "<a href=\"https://colab.research.google.com/github/djthegr8/Mission-Vimaan/blob/master/MissionVimaanMODEL.ipynb\" target=\"_parent\"><img src=\"https://colab.research.google.com/assets/colab-badge.svg\" alt=\"Open In Colab\"/></a>"
      ]
    },
    {
      "cell_type": "code",
      "metadata": {
        "id": "q_tiC94SVGIA",
        "colab_type": "code",
        "colab": {
          "base_uri": "https://localhost:8080/",
          "height": 289
        },
        "outputId": "4d315f67-7fb9-4d17-a834-6053603e0b2d"
      },
      "source": [
        "!wget https://github.com/djthegr8/Mission-Vimaan/raw/master/MissionVimaan.h5"
      ],
      "execution_count": 63,
      "outputs": [
        {
          "output_type": "stream",
          "text": [
            "--2020-07-06 08:54:01--  https://github.com/djthegr8/Mission-Vimaan/raw/master/MissionVimaan.h5\n",
            "Resolving github.com (github.com)... 140.82.113.4\n",
            "Connecting to github.com (github.com)|140.82.113.4|:443... connected.\n",
            "HTTP request sent, awaiting response... 302 Found\n",
            "Location: https://raw.githubusercontent.com/djthegr8/Mission-Vimaan/master/MissionVimaan.h5 [following]\n",
            "--2020-07-06 08:54:01--  https://raw.githubusercontent.com/djthegr8/Mission-Vimaan/master/MissionVimaan.h5\n",
            "Resolving raw.githubusercontent.com (raw.githubusercontent.com)... 151.101.0.133, 151.101.64.133, 151.101.128.133, ...\n",
            "Connecting to raw.githubusercontent.com (raw.githubusercontent.com)|151.101.0.133|:443... connected.\n",
            "HTTP request sent, awaiting response... 200 OK\n",
            "Length: 15643768 (15M) [application/octet-stream]\n",
            "Saving to: ‘MissionVimaan.h5’\n",
            "\n",
            "MissionVimaan.h5    100%[===================>]  14.92M  25.3MB/s    in 0.6s    \n",
            "\n",
            "2020-07-06 08:54:04 (25.3 MB/s) - ‘MissionVimaan.h5’ saved [15643768/15643768]\n",
            "\n"
          ],
          "name": "stdout"
        }
      ]
    },
    {
      "cell_type": "code",
      "metadata": {
        "id": "KOIrl4WiHa53",
        "colab_type": "code",
        "colab": {}
      },
      "source": [
        "import tensorflow as tf\n",
        "import os\n",
        "from PIL import Image\n",
        "from time import time as t\n",
        "import numpy as np\n",
        "from numpy import asarray"
      ],
      "execution_count": 64,
      "outputs": []
    },
    {
      "cell_type": "code",
      "metadata": {
        "id": "Tvuxa8yQIa1D",
        "colab_type": "code",
        "colab": {}
      },
      "source": [
        "model = tf.keras.models.load_model('./MissionVimaan.h5')"
      ],
      "execution_count": 65,
      "outputs": []
    },
    {
      "cell_type": "code",
      "metadata": {
        "id": "6i7oKeobKm3g",
        "colab_type": "code",
        "colab": {}
      },
      "source": [
        "def image_load(fpath):\n",
        "  '''\n",
        "  Loads the desired image\n",
        "  Args:\n",
        "  fpath: str:  Path of the image\n",
        "\n",
        "  Returns:\n",
        "  array: ndarray: An npy array of the image\n",
        "  '''\n",
        "  a = t()\n",
        "  x = Image.open(fpath)\n",
        "  b = t()\n",
        "  print(f\"Image loaded in {(b-a)}ms\")\n",
        "  x.show()\n",
        "  array = np.asarray(x)\n",
        "  return array"
      ],
      "execution_count": 66,
      "outputs": []
    },
    {
      "cell_type": "code",
      "metadata": {
        "id": "JM2J6fD9O8P3",
        "colab_type": "code",
        "colab": {}
      },
      "source": [
        "def test(mv_model,image_array,verbose = 0,print_at_end=True):\n",
        "  '''\n",
        "  Tests the image on the model, returns probabilities that the image contains water.\n",
        "  Args:\n",
        "  model: tf.Keras.Model: The model to test on\n",
        "  image_array: ndarray: The image to test\n",
        "\n",
        "  Returns:\n",
        "  res: float: Probability that the img contains water\n",
        "  '''\n",
        "  image_a2 = image_array / 255\n",
        "  print(\"Resizing image\")\n",
        "  img_res = tf.image.resize(image_a2,[224,224])\n",
        "  img_res = np.asarray(img_res).reshape([1,224,224,3])\n",
        "  print(\"Resizing over, predicting started\")\n",
        "  res = mv_model.predict(img_res,verbose=verbose)\n",
        "  #res = int(res)\n",
        "  print(\"Over.\")\n",
        "  if print_at_end:\n",
        "    print(f\"The probability that the img has water is {res}\")  \n",
        "  return res  "
      ],
      "execution_count": 67,
      "outputs": []
    },
    {
      "cell_type": "code",
      "metadata": {
        "id": "gqVkWHGTI0kX",
        "colab_type": "code",
        "colab": {
          "base_uri": "https://localhost:8080/",
          "height": 34
        },
        "outputId": "4c5fa043-0ff7-420a-ceff-bbd6a36a17de"
      },
      "source": [
        "#@title Select image for testing { display-mode: \"form\" }\n",
        "fpath = \"/content/AAAA.jpg\" #@param {type:\"string\"}\n",
        "imagez = image_load(fpath)"
      ],
      "execution_count": 68,
      "outputs": [
        {
          "output_type": "stream",
          "text": [
            "Image loaded in 0.0004925727844238281ms\n"
          ],
          "name": "stdout"
        }
      ]
    },
    {
      "cell_type": "code",
      "metadata": {
        "id": "TUcHpfuSSQw8",
        "colab_type": "code",
        "colab": {
          "base_uri": "https://localhost:8080/",
          "height": 119
        },
        "outputId": "5bd793b8-87d6-4822-9803-96789affd09b"
      },
      "source": [
        "test(model,imagez,1)"
      ],
      "execution_count": 69,
      "outputs": [
        {
          "output_type": "stream",
          "text": [
            "Resizing image\n",
            "Resizing over, predicting started\n",
            "1/1 [==============================] - 0s 1ms/step\n",
            "Over.\n",
            "The probability that the img has water is [[0.97950935]]\n"
          ],
          "name": "stdout"
        },
        {
          "output_type": "execute_result",
          "data": {
            "text/plain": [
              "array([[0.97950935]], dtype=float32)"
            ]
          },
          "metadata": {
            "tags": []
          },
          "execution_count": 69
        }
      ]
    },
    {
      "cell_type": "code",
      "metadata": {
        "id": "EdW-CbT9UEuz",
        "colab_type": "code",
        "colab": {}
      },
      "source": [
        ""
      ],
      "execution_count": null,
      "outputs": []
    }
  ]
}